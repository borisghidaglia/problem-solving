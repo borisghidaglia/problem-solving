{
 "cells": [
  {
   "cell_type": "markdown",
   "metadata": {},
   "source": [
    "# Linkedin Interview"
   ]
  },
  {
   "cell_type": "markdown",
   "metadata": {},
   "source": [
    "**Question 1 :** Count the number of workers with a Microsoft experience right before Google."
   ]
  },
  {
   "cell_type": "markdown",
   "metadata": {},
   "source": [
    "## A python solution"
   ]
  },
  {
   "cell_type": "markdown",
   "metadata": {},
   "source": [
    "### Importing packages"
   ]
  },
  {
   "cell_type": "code",
   "execution_count": 1,
   "metadata": {},
   "outputs": [],
   "source": [
    "from pprint import PrettyPrinter\n",
    "\n",
    "# Setting the PrettyPrinter\n",
    "p = PrettyPrinter(indent=4)"
   ]
  },
  {
   "cell_type": "markdown",
   "metadata": {},
   "source": [
    "### The data"
   ]
  },
  {
   "cell_type": "code",
   "execution_count": 2,
   "metadata": {},
   "outputs": [],
   "source": [
    "data = {\n",
    "    '1' : [\n",
    "        ['Microsoft', 2000],\n",
    "        ['Google', 2001],\n",
    "        ['Oracle', 2004],\n",
    "        ['Linkedin', 2010],\n",
    "    ],\n",
    "    '2' : [\n",
    "        ['Linkedin', 2002],\n",
    "        ['Oracle', 2016],\n",
    "        ['Google', 2008],\n",
    "        ['Microsoft', 2019],\n",
    "    ],\n",
    "    '3' : [\n",
    "        ['Oracle', 2002],\n",
    "        ['Linkedin', 2005],\n",
    "        ['Microsoft', 2014],\n",
    "        ['Google', 2006],\n",
    "    ]\n",
    "}"
   ]
  },
  {
   "cell_type": "markdown",
   "metadata": {},
   "source": [
    "### Solving the problem"
   ]
  },
  {
   "cell_type": "code",
   "execution_count": 3,
   "metadata": {},
   "outputs": [],
   "source": [
    "def count_matches(data, company_1, company_2):\n",
    "    # Initiating vars\n",
    "    ordered_data = {}\n",
    "    res = 0\n",
    "\n",
    "    # Doing the actual work\n",
    "    for elt in data:\n",
    "        # ordering workers experiences by date\n",
    "        ordered_experiences = sorted(data[elt], key=lambda x:x[1])\n",
    "        # building a dict like data, but with experiences ordered, for visualization purposes\n",
    "        ordered_data[elt] = ordered_experiences\n",
    "        # creating a list containing companies name only, to compare Microsoft and Google indexes\n",
    "        # if Microsoft is right before Google, then add 1 to the res\n",
    "        ordered_companies = [exp[0] for exp in ordered_experiences]\n",
    "        if ordered_companies.index(company_1) == ordered_companies.index(company_2) - 1:\n",
    "            res += 1\n",
    "    return res, ordered_data"
   ]
  },
  {
   "cell_type": "code",
   "execution_count": 4,
   "metadata": {},
   "outputs": [
    {
     "name": "stdout",
     "output_type": "stream",
     "text": [
      "Number of workers with a Microsoft experience right before Google : 1\n",
      "\n",
      "{   '1': [   ['Microsoft', 2000],\n",
      "             ['Google', 2001],\n",
      "             ['Oracle', 2004],\n",
      "             ['Linkedin', 2010]],\n",
      "    '2': [   ['Linkedin', 2002],\n",
      "             ['Google', 2008],\n",
      "             ['Oracle', 2016],\n",
      "             ['Microsoft', 2019]],\n",
      "    '3': [   ['Oracle', 2002],\n",
      "             ['Linkedin', 2005],\n",
      "             ['Google', 2006],\n",
      "             ['Microsoft', 2014]]}\n"
     ]
    }
   ],
   "source": [
    "res, ordered_data = count_matches(data, 'Microsoft', 'Google')\n",
    "print(f\"Number of workers with a Microsoft experience right before Google : {res}\\n\")\n",
    "p.pprint(ordered_data)"
   ]
  }
 ],
 "metadata": {
  "kernelspec": {
   "display_name": "Python 3",
   "language": "python",
   "name": "python3"
  },
  "language_info": {
   "codemirror_mode": {
    "name": "ipython",
    "version": 3
   },
   "file_extension": ".py",
   "mimetype": "text/x-python",
   "name": "python",
   "nbconvert_exporter": "python",
   "pygments_lexer": "ipython3",
   "version": "3.6.5"
  }
 },
 "nbformat": 4,
 "nbformat_minor": 2
}
